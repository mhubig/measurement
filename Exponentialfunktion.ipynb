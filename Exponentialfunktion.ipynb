{
 "cells": [
  {
   "cell_type": "code",
   "execution_count": 76,
   "metadata": {
    "collapsed": false
   },
   "outputs": [
    {
     "name": "stdout",
     "output_type": "stream",
     "text": [
      "Populating the interactive namespace from numpy and matplotlib\n"
     ]
    }
   ],
   "source": [
    "%pylab inline\n",
    "import pandas as pd\n",
    "from IPython.display import display, Math"
   ]
  },
  {
   "cell_type": "code",
   "execution_count": 82,
   "metadata": {
    "collapsed": false
   },
   "outputs": [
    {
     "data": {
      "text/plain": [
       "[<matplotlib.lines.Line2D at 0x10fd28940>]"
      ]
     },
     "execution_count": 82,
     "metadata": {},
     "output_type": "execute_result"
    },
    {
     "data": {
      "image/png": "[encoded data removed]",
      "text/plain": [
       "<matplotlib.figure.Figure at 0x10fbda3c8>"
      ]
     },
     "metadata": {},
     "output_type": "display_data"
    }
   ],
   "source": [
    "# the measurements points\n",
    "points = [(0, 3464),\n",
    "          (1, 3599),\n",
    "          (2, 3780),\n",
    "          (3, 3997),\n",
    "          (4, 4225),\n",
    "          (5, 4483)]\n",
    "\n",
    "# the measurement points\n",
    "x = [x for x,_ in points]\n",
    "y = [y for _,y in points]\n",
    "pylab.plot(x, y, 'ro', label='measurements')"
   ]
  },
  {
   "cell_type": "markdown",
   "metadata": {
    "collapsed": true
   },
   "source": [
    "Die natürliche Expotentialfunktion ist $f(t) = f(0) \\cdot e^{k \\cdot t}$ mit Anfangswert $f(0)$, Wachstumswert $a$ und  Wachstumskonstante $k = ln(a)$."
   ]
  },
  {
   "cell_type": "code",
   "execution_count": 78,
   "metadata": {
    "collapsed": false
   },
   "outputs": [
    {
     "data": {
      "text/html": [
       "<div>\n",
       "<table border=\"1\" class=\"dataframe\">\n",
       "  <thead>\n",
       "    <tr style=\"text-align: right;\">\n",
       "      <th>Time</th>\n",
       "      <th>Value</th>\n",
       "    </tr>\n",
       "  </thead>\n",
       "  <tbody>\n",
       "    <tr>\n",
       "      <th>0</th>\n",
       "      <td>3464</td>\n",
       "    </tr>\n",
       "    <tr>\n",
       "      <th>1</th>\n",
       "      <td>3599</td>\n",
       "    </tr>\n",
       "    <tr>\n",
       "      <th>2</th>\n",
       "      <td>3780</td>\n",
       "    </tr>\n",
       "    <tr>\n",
       "      <th>3</th>\n",
       "      <td>3997</td>\n",
       "    </tr>\n",
       "    <tr>\n",
       "      <th>4</th>\n",
       "      <td>4225</td>\n",
       "    </tr>\n",
       "    <tr>\n",
       "      <th>5</th>\n",
       "      <td>4483</td>\n",
       "    </tr>\n",
       "  </tbody>\n",
       "</table>\n",
       "</div>"
      ],
      "text/plain": [
       "Time  Value\n",
       "0      3464\n",
       "1      3599\n",
       "2      3780\n",
       "3      3997\n",
       "4      4225\n",
       "5      4483"
      ]
     },
     "execution_count": 78,
     "metadata": {},
     "output_type": "execute_result"
    }
   ],
   "source": [
    "s = pd.Series([3464, 3599, 3780, 3997, 4225, 4483])\n",
    "df = pd.DataFrame({'Value': [3464, 3599, 3780, 3997, 4225, 4483]})\n",
    "df.columns.name = 'Time'\n",
    "df"
   ]
  },
  {
   "cell_type": "code",
   "execution_count": 79,
   "metadata": {
    "collapsed": false
   },
   "outputs": [
    {
     "data": {
      "text/html": [
       "<div>\n",
       "<table border=\"1\" class=\"dataframe\">\n",
       "  <thead>\n",
       "    <tr style=\"text-align: right;\">\n",
       "      <th>Time</th>\n",
       "      <th>Value</th>\n",
       "      <th>Wachstumswert</th>\n",
       "    </tr>\n",
       "  </thead>\n",
       "  <tbody>\n",
       "    <tr>\n",
       "      <th>0</th>\n",
       "      <td>3464</td>\n",
       "      <td>-</td>\n",
       "    </tr>\n",
       "    <tr>\n",
       "      <th>1</th>\n",
       "      <td>3599</td>\n",
       "      <td>3599/3464=1.038972286</td>\n",
       "    </tr>\n",
       "    <tr>\n",
       "      <th>2</th>\n",
       "      <td>3780</td>\n",
       "      <td>3780/3599=1.050291748</td>\n",
       "    </tr>\n",
       "    <tr>\n",
       "      <th>3</th>\n",
       "      <td>3997</td>\n",
       "      <td>3997/3780=1.057407407</td>\n",
       "    </tr>\n",
       "    <tr>\n",
       "      <th>4</th>\n",
       "      <td>4225</td>\n",
       "      <td>4225/3997=1.057042782</td>\n",
       "    </tr>\n",
       "    <tr>\n",
       "      <th>5</th>\n",
       "      <td>4483</td>\n",
       "      <td>4483/4225=1.061065089</td>\n",
       "    </tr>\n",
       "  </tbody>\n",
       "</table>\n",
       "</div>"
      ],
      "text/plain": [
       "Time  Value          Wachstumswert\n",
       "0      3464                      -\n",
       "1      3599  3599/3464=1.038972286\n",
       "2      3780  3780/3599=1.050291748\n",
       "3      3997  3997/3780=1.057407407\n",
       "4      4225  4225/3997=1.057042782\n",
       "5      4483  4483/4225=1.061065089"
      ]
     },
     "execution_count": 79,
     "metadata": {},
     "output_type": "execute_result"
    }
   ],
   "source": [
    "df['Wachstumswert'] = pd.Series(['-',\n",
    "                                 '3599/3464=1.038972286',\n",
    "                                 '3780/3599=1.050291748',\n",
    "                                 '3997/3780=1.057407407',\n",
    "                                 '4225/3997=1.057042782',\n",
    "                                 '4483/4225=1.061065089'])\n",
    "df"
   ]
  },
  {
   "cell_type": "markdown",
   "metadata": {},
   "source": [
    "Mittelwert der Wachstumswerte bilden:"
   ]
  },
  {
   "cell_type": "code",
   "execution_count": 80,
   "metadata": {
    "collapsed": false
   },
   "outputs": [
    {
     "data": {
      "text/plain": [
       "1.0529558624"
      ]
     },
     "execution_count": 80,
     "metadata": {},
     "output_type": "execute_result"
    }
   ],
   "source": [
    "m = (1.038972286 + 1.050291748 + 1.057407407 + 1.057042782 + 1.061065089) / 5\n",
    "m"
   ]
  },
  {
   "cell_type": "markdown",
   "metadata": {},
   "source": [
    "Wachstumskonstante $k = ln(a)$ berechnen:"
   ]
  },
  {
   "cell_type": "code",
   "execution_count": 81,
   "metadata": {
    "collapsed": false
   },
   "outputs": [
    {
     "data": {
      "text/plain": [
       "0.05160131622395353"
      ]
     },
     "execution_count": 81,
     "metadata": {},
     "output_type": "execute_result"
    }
   ],
   "source": [
    "k = math.log(m)\n",
    "k"
   ]
  },
  {
   "cell_type": "markdown",
   "metadata": {},
   "source": [
    "Nun die berechneten Werte ($f(0) = 3464$, $k = 0.05160131622395353$) in $f(t) = f(0) \\cdot e^{k \\cdot t}$ einsetzen:\n",
    "\n",
    "$f(t) = 3464 \\cdot e^{0.05160131622395353 \\cdot t}$"
   ]
  },
  {
   "cell_type": "code",
   "execution_count": 110,
   "metadata": {
    "collapsed": false
   },
   "outputs": [
    {
     "data": {
      "image/png": "[encoded data removed]",
      "text/plain": [
       "<matplotlib.figure.Figure at 0x1115b1278>"
      ]
     },
     "metadata": {},
     "output_type": "display_data"
    }
   ],
   "source": [
    "pylab.figure(figsize=(10, 10))\n",
    "pylab.axis([0, 10, 3000, 8000])\n",
    "plt.title('Exponentialfunktion by measurement points')\n",
    "pylab.xlabel('Time/s')\n",
    "pylab.ylabel('Values')\n",
    "\n",
    "# the measurements points\n",
    "points = [(0, 3464),\n",
    "          (1, 3599),\n",
    "          (2, 3780),\n",
    "          (3, 3997),\n",
    "          (4, 4225),\n",
    "          (5, 4483)]\n",
    "x = [x for x,_ in points]\n",
    "y = [y for _,y in points]\n",
    "pylab.plot(x, y, 'ro', label='measurements')\n",
    "\n",
    "# the exponential function\n",
    "t = np.arange(0, 11, 1)\n",
    "pylab.plot(t, 3464*np.exp(k*t), label=r'$f(t) = 3464 \\cdot e^{0.05160131622395353 \\cdot t}$')\n",
    "\n",
    "plt.legend(loc='upper left')\n",
    "pylab.show()"
   ]
  },
  {
   "cell_type": "code",
   "execution_count": 117,
   "metadata": {
    "collapsed": false
   },
   "outputs": [
    {
     "data": {
      "text/plain": [
       "[<matplotlib.lines.Line2D at 0x1112f8f28>]"
      ]
     },
     "execution_count": 117,
     "metadata": {},
     "output_type": "execute_result"
    },
    {
     "data": {
      "image/png": "[encoded data removed]",
      "text/plain": [
       "<matplotlib.figure.Figure at 0x1124b4be0>"
      ]
     },
     "metadata": {},
     "output_type": "display_data"
    }
   ],
   "source": [
    "# the exponential function\n",
    "t = np.arange(0, 200, 1)\n",
    "pylab.plot(t, 3464*np.exp(k*t), label=r'$f(t) = 3464 \\cdot e^{0.05160131622395353 \\cdot t}$')"
   ]
  },
  {
   "cell_type": "code",
   "execution_count": null,
   "metadata": {
    "collapsed": true
   },
   "outputs": [],
   "source": []
  }
 ],
 "metadata": {
  "kernelspec": {
   "display_name": "Python 3",
   "language": "python",
   "name": "python3"
  },
  "language_info": {
   "codemirror_mode": {
    "name": "ipython",
    "version": 3
   },
   "file_extension": ".py",
   "mimetype": "text/x-python",
   "name": "python",
   "nbconvert_exporter": "python",
   "pygments_lexer": "ipython3",
   "version": "3.5.0"
  }
 },
 "nbformat": 4,
 "nbformat_minor": 0
}
