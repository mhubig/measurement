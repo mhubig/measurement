{
 "cells": [
  {
   "cell_type": "code",
   "execution_count": 6,
   "metadata": {
    "collapsed": false
   },
   "outputs": [
    {
     "name": "stdout",
     "output_type": "stream",
     "text": [
      "Populating the interactive namespace from numpy and matplotlib\n"
     ]
    }
   ],
   "source": [
    "%pylab inline"
   ]
  },
  {
   "cell_type": "code",
   "execution_count": 32,
   "metadata": {
    "collapsed": false
   },
   "outputs": [],
   "source": [
    "# Function to compute the coefficients of a 2nd degree\n",
    "# polynomial using the least squares methode with some\n",
    "# measurement points.\n",
    "# See https://en.wikipedia.org/wiki/Least_squares\n",
    "def compute_coefficients(points):\n",
    "    k = len(points)\n",
    "\n",
    "    # set all variables to 0\n",
    "    sy = sx = syx = sx2 = sx3 = sx4 = syx2 = 0\n",
    "\n",
    "    # calculate the sums\n",
    "    for x, y in points:\n",
    "        sx   = sx   + x\n",
    "        sy   = sy   + y\n",
    "        syx  = syx  + y*x\n",
    "        sx2  = sx2  + x**2\n",
    "        sx3  = sx3  + x**3\n",
    "        sx4  = sx4  + x**4\n",
    "        syx2 = syx2 + y*x**2\n",
    "\n",
    "    # calculate the average values\n",
    "    x   = sx   / k\n",
    "    y   = sy   / k\n",
    "    yx  = syx  / k\n",
    "    x2  = sx2  / k\n",
    "    x3  = sx3  / k\n",
    "    x4  = sx4  / k\n",
    "    yx2 = syx2 / k\n",
    "\n",
    "    # calculate the a-coefficient\n",
    "    a_z = (yx2 - y * x2) * (x2 - x**2) - (yx - y * x) * (x3 - x * x2)\n",
    "    a_n = (x4 - x2**2) * (x2 - x**2) - (x3 - x * x2)**2\n",
    "    a = a_z / a_n\n",
    "\n",
    "    # calculate the b-coefficient\n",
    "    b_z = yx - y * x - a * (x3 - x * x2)\n",
    "    b_n = x2 - x**2\n",
    "    b = b_z / b_n\n",
    "\n",
    "    # calculate the c-coefficient\n",
    "    c = y - a * x2 - b * x\n",
    "\n",
    "    return (a, b, c)"
   ]
  },
  {
   "cell_type": "code",
   "execution_count": 27,
   "metadata": {
    "collapsed": false
   },
   "outputs": [
    {
     "name": "stdout",
     "output_type": "stream",
     "text": [
      "y = 0.20551599021179637 * x^2 + 0.1403615728630497 * x + 0.10734874694118812\n"
     ]
    }
   ],
   "source": [
    "# the measurements points\n",
    "points = [(1.00,  0.38),\n",
    "          (2.00,  1.15),\n",
    "          (3.00,  2.71),\n",
    "          (4.00,  3.92),\n",
    "          (5.00,  5.93),\n",
    "          (5.50,  6.66),\n",
    "          (6.00,  8.56),\n",
    "          (7.00, 11.24)]\n",
    "\n",
    "# compute the coefficients\n",
    "a, b, c = compute_coefficients(points)\n",
    "\n",
    "print(\"y = {a} * x^2 + {b} * x + {c}\".format(a=a,b=b,c=c))"
   ]
  },
  {
   "cell_type": "code",
   "execution_count": 31,
   "metadata": {
    "collapsed": false
   },
   "outputs": [
    {
     "data": {
      "image/png": "[encoded data removed]",
      "text/plain": [
       "<matplotlib.figure.Figure at 0x10b2c8668>"
      ]
     },
     "metadata": {},
     "output_type": "display_data"
    }
   ],
   "source": [
    "# example plot to visualize the results\n",
    "pylab.axis([0, 7, 0, 11])\n",
    "plt.title('Polinomial Fit by measurement points')\n",
    "pylab.xlabel('SPS-Digits')\n",
    "pylab.ylabel(r'$l/m^3$')\n",
    "\n",
    "# the measurement points\n",
    "x = [x for x,y in points]\n",
    "y = [y for x,y in points]\n",
    "pylab.plot(x, y, 'ro')\n",
    "\n",
    "# the polynomial\n",
    "x = np.arange(0.0, 7.0, 0.1)\n",
    "y = a * x**2 + b * x + c\n",
    "pylab.plot(x, y, 'g-')\n",
    "\n",
    "pylab.show()"
   ]
  },
  {
   "cell_type": "code",
   "execution_count": null,
   "metadata": {
    "collapsed": true
   },
   "outputs": [],
   "source": []
  }
 ],
 "metadata": {
  "kernelspec": {
   "display_name": "Python 3",
   "language": "python",
   "name": "python3"
  },
  "language_info": {
   "codemirror_mode": {
    "name": "ipython",
    "version": 3
   },
   "file_extension": ".py",
   "mimetype": "text/x-python",
   "name": "python",
   "nbconvert_exporter": "python",
   "pygments_lexer": "ipython3",
   "version": "3.4.3"
  }
 },
 "nbformat": 4,
 "nbformat_minor": 0
}
